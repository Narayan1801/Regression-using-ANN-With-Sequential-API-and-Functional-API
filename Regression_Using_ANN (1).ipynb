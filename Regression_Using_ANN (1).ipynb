{
  "nbformat": 4,
  "nbformat_minor": 0,
  "metadata": {
    "colab": {
      "name": "Regression Using ANN.ipynb",
      "provenance": [],
      "collapsed_sections": []
    },
    "kernelspec": {
      "name": "python3",
      "display_name": "Python 3"
    },
    "language_info": {
      "name": "python"
    }
  },
  "cells": [
    {
      "cell_type": "code",
      "execution_count": 1,
      "metadata": {
        "id": "PjDIubHkMLLn"
      },
      "outputs": [],
      "source": [
        "import pandas as pd\n",
        "import numpy as np\n",
        "import matplotlib.pyplot as plt\n",
        "%matplotlib inline"
      ]
    },
    {
      "cell_type": "code",
      "source": [
        "import tensorflow as tf\n",
        "from tensorflow import keras"
      ],
      "metadata": {
        "id": "gczL9xoGN6sq"
      },
      "execution_count": 2,
      "outputs": []
    },
    {
      "cell_type": "code",
      "source": [
        "from sklearn.datasets import fetch_california_housing\n",
        "housing = fetch_california_housing()"
      ],
      "metadata": {
        "id": "ARvHBd4wOFk3"
      },
      "execution_count": 3,
      "outputs": []
    },
    {
      "cell_type": "code",
      "source": [
        "print(housing.feature_names)"
      ],
      "metadata": {
        "colab": {
          "base_uri": "https://localhost:8080/"
        },
        "id": "xnVGpMAZOZvN",
        "outputId": "42d47fe1-5b09-48b3-8f7a-fac33c410303"
      },
      "execution_count": 4,
      "outputs": [
        {
          "output_type": "stream",
          "name": "stdout",
          "text": [
            "['MedInc', 'HouseAge', 'AveRooms', 'AveBedrms', 'Population', 'AveOccup', 'Latitude', 'Longitude']\n"
          ]
        }
      ]
    },
    {
      "cell_type": "code",
      "source": [
        "from sklearn.model_selection import train_test_split\n",
        "X_train_full, X_test, y_train_full, y_test = train_test_split(housing.data, housing.target, random_state = 42)\n",
        "X_train, X_valid, y_train, y_valid = train_test_split(X_train_full, y_train_full, random_state= 42)"
      ],
      "metadata": {
        "id": "-jPPmHfTOcZg"
      },
      "execution_count": 5,
      "outputs": []
    },
    {
      "cell_type": "code",
      "source": [
        "from sklearn.preprocessing import StandardScaler\n",
        "scaler = StandardScaler()\n",
        "X_train = scaler.fit_transform(X_train)\n",
        "X_valid = scaler.transform(X_valid)\n",
        "X_test = scaler.transform(X_test)"
      ],
      "metadata": {
        "id": "DGgqok8dP5ve"
      },
      "execution_count": 6,
      "outputs": []
    },
    {
      "cell_type": "code",
      "source": [
        "np.random.seed(42)\n",
        "tf.random.set_seed(42)"
      ],
      "metadata": {
        "id": "kLiC1X8fSAiD"
      },
      "execution_count": 7,
      "outputs": []
    },
    {
      "cell_type": "code",
      "source": [
        "X_train.shape"
      ],
      "metadata": {
        "colab": {
          "base_uri": "https://localhost:8080/"
        },
        "id": "v5ivUFFZRblt",
        "outputId": "5a5dc607-b6f0-4fa5-e321-41894f7d6661"
      },
      "execution_count": 8,
      "outputs": [
        {
          "output_type": "execute_result",
          "data": {
            "text/plain": [
              "(11610, 8)"
            ]
          },
          "metadata": {},
          "execution_count": 8
        }
      ]
    },
    {
      "cell_type": "code",
      "source": [
        "X_test.shape"
      ],
      "metadata": {
        "colab": {
          "base_uri": "https://localhost:8080/"
        },
        "id": "GPgDBw8hRfZu",
        "outputId": "5bd7fe82-e355-4157-ec13-a2aa81e72c0d"
      },
      "execution_count": 9,
      "outputs": [
        {
          "output_type": "execute_result",
          "data": {
            "text/plain": [
              "(5160, 8)"
            ]
          },
          "metadata": {},
          "execution_count": 9
        }
      ]
    },
    {
      "cell_type": "code",
      "source": [
        "X_valid.shape"
      ],
      "metadata": {
        "colab": {
          "base_uri": "https://localhost:8080/"
        },
        "id": "Utr6VfEmRjHG",
        "outputId": "54bffb9a-3327-44c3-b3b9-d13459cfb181"
      },
      "execution_count": 10,
      "outputs": [
        {
          "output_type": "execute_result",
          "data": {
            "text/plain": [
              "(3870, 8)"
            ]
          },
          "metadata": {},
          "execution_count": 10
        }
      ]
    },
    {
      "cell_type": "code",
      "source": [
        "model = keras.models.Sequential([keras.layers.Dense(30, activation=\"relu\", input_shape=[8]),\n",
        "                                 keras.layers.Dense(30, activation=\"relu\"),\n",
        "                                 keras.layers.Dense(1)\n",
        "                                 \n",
        "])\n"
      ],
      "metadata": {
        "id": "IDO8PXTCRsYa"
      },
      "execution_count": 11,
      "outputs": []
    },
    {
      "cell_type": "code",
      "source": [
        "model.summary()"
      ],
      "metadata": {
        "colab": {
          "base_uri": "https://localhost:8080/"
        },
        "id": "5btIEcMCefaY",
        "outputId": "59a59916-dc56-4be7-eb29-1d12f67ff918"
      },
      "execution_count": 12,
      "outputs": [
        {
          "output_type": "stream",
          "name": "stdout",
          "text": [
            "Model: \"sequential\"\n",
            "_________________________________________________________________\n",
            " Layer (type)                Output Shape              Param #   \n",
            "=================================================================\n",
            " dense (Dense)               (None, 30)                270       \n",
            "                                                                 \n",
            " dense_1 (Dense)             (None, 30)                930       \n",
            "                                                                 \n",
            " dense_2 (Dense)             (None, 1)                 31        \n",
            "                                                                 \n",
            "=================================================================\n",
            "Total params: 1,231\n",
            "Trainable params: 1,231\n",
            "Non-trainable params: 0\n",
            "_________________________________________________________________\n"
          ]
        }
      ]
    },
    {
      "cell_type": "code",
      "source": [
        "model.compile(loss = \"mean_squared_error\",\n",
        "              optimizer =keras.optimizers.SGD(lr=1e-3),\n",
        "              metrics=[\"mae\"])"
      ],
      "metadata": {
        "colab": {
          "base_uri": "https://localhost:8080/"
        },
        "id": "zqHbX0MaUIou",
        "outputId": "85d13c49-5791-4df8-aad7-fe041569144f"
      },
      "execution_count": 13,
      "outputs": [
        {
          "output_type": "stream",
          "name": "stderr",
          "text": [
            "/usr/local/lib/python3.7/dist-packages/keras/optimizer_v2/gradient_descent.py:102: UserWarning: The `lr` argument is deprecated, use `learning_rate` instead.\n",
            "  super(SGD, self).__init__(name, **kwargs)\n"
          ]
        }
      ]
    },
    {
      "cell_type": "code",
      "source": [
        "model_history = model.fit(X_train, y_train, epochs = 50, validation_data = (X_valid, y_valid))"
      ],
      "metadata": {
        "colab": {
          "base_uri": "https://localhost:8080/"
        },
        "id": "gHe-ioTNgM3m",
        "outputId": "f93a3bc0-2107-4522-c396-fdf2f9609804"
      },
      "execution_count": 14,
      "outputs": [
        {
          "output_type": "stream",
          "name": "stdout",
          "text": [
            "Epoch 1/50\n",
            "363/363 [==============================] - 2s 3ms/step - loss: 1.8866 - mae: 0.9900 - val_loss: 0.7126 - val_mae: 0.6368\n",
            "Epoch 2/50\n",
            "363/363 [==============================] - 1s 2ms/step - loss: 0.6577 - mae: 0.6042 - val_loss: 0.6880 - val_mae: 0.5704\n",
            "Epoch 3/50\n",
            "363/363 [==============================] - 1s 2ms/step - loss: 0.5934 - mae: 0.5618 - val_loss: 0.5803 - val_mae: 0.5352\n",
            "Epoch 4/50\n",
            "363/363 [==============================] - 1s 2ms/step - loss: 0.5557 - mae: 0.5398 - val_loss: 0.5166 - val_mae: 0.5207\n",
            "Epoch 5/50\n",
            "363/363 [==============================] - 1s 2ms/step - loss: 0.5272 - mae: 0.5237 - val_loss: 0.4895 - val_mae: 0.5022\n",
            "Epoch 6/50\n",
            "363/363 [==============================] - 1s 2ms/step - loss: 0.5033 - mae: 0.5113 - val_loss: 0.4951 - val_mae: 0.4934\n",
            "Epoch 7/50\n",
            "363/363 [==============================] - 1s 2ms/step - loss: 0.4854 - mae: 0.5010 - val_loss: 0.4861 - val_mae: 0.4838\n",
            "Epoch 8/50\n",
            "363/363 [==============================] - 1s 2ms/step - loss: 0.4709 - mae: 0.4924 - val_loss: 0.4554 - val_mae: 0.4753\n",
            "Epoch 9/50\n",
            "363/363 [==============================] - 1s 2ms/step - loss: 0.4578 - mae: 0.4857 - val_loss: 0.4413 - val_mae: 0.4671\n",
            "Epoch 10/50\n",
            "363/363 [==============================] - 1s 3ms/step - loss: 0.4474 - mae: 0.4797 - val_loss: 0.4379 - val_mae: 0.4623\n",
            "Epoch 11/50\n",
            "363/363 [==============================] - 1s 2ms/step - loss: 0.4393 - mae: 0.4744 - val_loss: 0.4396 - val_mae: 0.4638\n",
            "Epoch 12/50\n",
            "363/363 [==============================] - 1s 2ms/step - loss: 0.4318 - mae: 0.4703 - val_loss: 0.4507 - val_mae: 0.4573\n",
            "Epoch 13/50\n",
            "363/363 [==============================] - 1s 2ms/step - loss: 0.4261 - mae: 0.4674 - val_loss: 0.3997 - val_mae: 0.4517\n",
            "Epoch 14/50\n",
            "363/363 [==============================] - 1s 2ms/step - loss: 0.4202 - mae: 0.4636 - val_loss: 0.3956 - val_mae: 0.4497\n",
            "Epoch 15/50\n",
            "363/363 [==============================] - 1s 2ms/step - loss: 0.4155 - mae: 0.4613 - val_loss: 0.3916 - val_mae: 0.4464\n",
            "Epoch 16/50\n",
            "363/363 [==============================] - 1s 2ms/step - loss: 0.4112 - mae: 0.4591 - val_loss: 0.3937 - val_mae: 0.4445\n",
            "Epoch 17/50\n",
            "363/363 [==============================] - 1s 2ms/step - loss: 0.4077 - mae: 0.4569 - val_loss: 0.3809 - val_mae: 0.4390\n",
            "Epoch 18/50\n",
            "363/363 [==============================] - 1s 2ms/step - loss: 0.4040 - mae: 0.4545 - val_loss: 0.3793 - val_mae: 0.4368\n",
            "Epoch 19/50\n",
            "363/363 [==============================] - 1s 2ms/step - loss: 0.4004 - mae: 0.4521 - val_loss: 0.3850 - val_mae: 0.4369\n",
            "Epoch 20/50\n",
            "363/363 [==============================] - 1s 2ms/step - loss: 0.3980 - mae: 0.4508 - val_loss: 0.3809 - val_mae: 0.4368\n",
            "Epoch 21/50\n",
            "363/363 [==============================] - 1s 2ms/step - loss: 0.3949 - mae: 0.4488 - val_loss: 0.3701 - val_mae: 0.4350\n",
            "Epoch 22/50\n",
            "363/363 [==============================] - 1s 2ms/step - loss: 0.3924 - mae: 0.4474 - val_loss: 0.3781 - val_mae: 0.4358\n",
            "Epoch 23/50\n",
            "363/363 [==============================] - 1s 2ms/step - loss: 0.3898 - mae: 0.4462 - val_loss: 0.3650 - val_mae: 0.4267\n",
            "Epoch 24/50\n",
            "363/363 [==============================] - 1s 2ms/step - loss: 0.3874 - mae: 0.4438 - val_loss: 0.3655 - val_mae: 0.4271\n",
            "Epoch 25/50\n",
            "363/363 [==============================] - 1s 2ms/step - loss: 0.3851 - mae: 0.4427 - val_loss: 0.3611 - val_mae: 0.4257\n",
            "Epoch 26/50\n",
            "363/363 [==============================] - 1s 2ms/step - loss: 0.3829 - mae: 0.4412 - val_loss: 0.3626 - val_mae: 0.4256\n",
            "Epoch 27/50\n",
            "363/363 [==============================] - 1s 2ms/step - loss: 0.3809 - mae: 0.4398 - val_loss: 0.3564 - val_mae: 0.4242\n",
            "Epoch 28/50\n",
            "363/363 [==============================] - 1s 2ms/step - loss: 0.3788 - mae: 0.4382 - val_loss: 0.3579 - val_mae: 0.4259\n",
            "Epoch 29/50\n",
            "363/363 [==============================] - 1s 2ms/step - loss: 0.3769 - mae: 0.4373 - val_loss: 0.3561 - val_mae: 0.4244\n",
            "Epoch 30/50\n",
            "363/363 [==============================] - 1s 2ms/step - loss: 0.3750 - mae: 0.4359 - val_loss: 0.3548 - val_mae: 0.4214\n",
            "Epoch 31/50\n",
            "363/363 [==============================] - 1s 2ms/step - loss: 0.3730 - mae: 0.4346 - val_loss: 0.3502 - val_mae: 0.4193\n",
            "Epoch 32/50\n",
            "363/363 [==============================] - 1s 2ms/step - loss: 0.3714 - mae: 0.4336 - val_loss: 0.3642 - val_mae: 0.4253\n",
            "Epoch 33/50\n",
            "363/363 [==============================] - 1s 2ms/step - loss: 0.3701 - mae: 0.4330 - val_loss: 0.3468 - val_mae: 0.4182\n",
            "Epoch 34/50\n",
            "363/363 [==============================] - 1s 2ms/step - loss: 0.3685 - mae: 0.4316 - val_loss: 0.3474 - val_mae: 0.4183\n",
            "Epoch 35/50\n",
            "363/363 [==============================] - 1s 2ms/step - loss: 0.3672 - mae: 0.4307 - val_loss: 0.3624 - val_mae: 0.4218\n",
            "Epoch 36/50\n",
            "363/363 [==============================] - 1s 2ms/step - loss: 0.3660 - mae: 0.4304 - val_loss: 0.3438 - val_mae: 0.4149\n",
            "Epoch 37/50\n",
            "363/363 [==============================] - 1s 2ms/step - loss: 0.3647 - mae: 0.4289 - val_loss: 0.3611 - val_mae: 0.4193\n",
            "Epoch 38/50\n",
            "363/363 [==============================] - 1s 2ms/step - loss: 0.3636 - mae: 0.4285 - val_loss: 0.3459 - val_mae: 0.4158\n",
            "Epoch 39/50\n",
            "363/363 [==============================] - 1s 2ms/step - loss: 0.3624 - mae: 0.4279 - val_loss: 0.3492 - val_mae: 0.4150\n",
            "Epoch 40/50\n",
            "363/363 [==============================] - 1s 2ms/step - loss: 0.3613 - mae: 0.4270 - val_loss: 0.3433 - val_mae: 0.4127\n",
            "Epoch 41/50\n",
            "363/363 [==============================] - 1s 2ms/step - loss: 0.3602 - mae: 0.4257 - val_loss: 0.3556 - val_mae: 0.4161\n",
            "Epoch 42/50\n",
            "363/363 [==============================] - 1s 2ms/step - loss: 0.3593 - mae: 0.4258 - val_loss: 0.3484 - val_mae: 0.4125\n",
            "Epoch 43/50\n",
            "363/363 [==============================] - 1s 2ms/step - loss: 0.3580 - mae: 0.4244 - val_loss: 0.3684 - val_mae: 0.4153\n",
            "Epoch 44/50\n",
            "363/363 [==============================] - 1s 2ms/step - loss: 0.3573 - mae: 0.4239 - val_loss: 0.3605 - val_mae: 0.4174\n",
            "Epoch 45/50\n",
            "363/363 [==============================] - 1s 2ms/step - loss: 0.3564 - mae: 0.4242 - val_loss: 0.3399 - val_mae: 0.4096\n",
            "Epoch 46/50\n",
            "363/363 [==============================] - 1s 2ms/step - loss: 0.3552 - mae: 0.4220 - val_loss: 0.3506 - val_mae: 0.4130\n",
            "Epoch 47/50\n",
            "363/363 [==============================] - 1s 2ms/step - loss: 0.3547 - mae: 0.4228 - val_loss: 0.3481 - val_mae: 0.4106\n",
            "Epoch 48/50\n",
            "363/363 [==============================] - 1s 2ms/step - loss: 0.3538 - mae: 0.4216 - val_loss: 0.3661 - val_mae: 0.4138\n",
            "Epoch 49/50\n",
            "363/363 [==============================] - 1s 2ms/step - loss: 0.3531 - mae: 0.4211 - val_loss: 0.3356 - val_mae: 0.4104\n",
            "Epoch 50/50\n",
            "363/363 [==============================] - 1s 2ms/step - loss: 0.3523 - mae: 0.4207 - val_loss: 0.3323 - val_mae: 0.4074\n"
          ]
        }
      ]
    },
    {
      "cell_type": "code",
      "source": [
        "mae_test = model.evaluate(X_test,y_test)"
      ],
      "metadata": {
        "id": "mpIaGeuogouN",
        "colab": {
          "base_uri": "https://localhost:8080/"
        },
        "outputId": "4200da98-806c-4a61-c75f-c7ad7eb6f15f"
      },
      "execution_count": 15,
      "outputs": [
        {
          "output_type": "stream",
          "name": "stdout",
          "text": [
            "162/162 [==============================] - 1s 4ms/step - loss: 0.3514 - mae: 0.4190\n"
          ]
        }
      ]
    },
    {
      "cell_type": "code",
      "source": [
        "model_history.history"
      ],
      "metadata": {
        "colab": {
          "base_uri": "https://localhost:8080/"
        },
        "id": "u0hR-fyilQNJ",
        "outputId": "071edecc-c3f4-47ce-e00c-9b7d078f09f0"
      },
      "execution_count": 16,
      "outputs": [
        {
          "output_type": "execute_result",
          "data": {
            "text/plain": [
              "{'loss': [1.8866394758224487,\n",
              "  0.6577126979827881,\n",
              "  0.5934185981750488,\n",
              "  0.5557191371917725,\n",
              "  0.5271905064582825,\n",
              "  0.5032975673675537,\n",
              "  0.4853556454181671,\n",
              "  0.47091808915138245,\n",
              "  0.45779937505722046,\n",
              "  0.4474469721317291,\n",
              "  0.4393136501312256,\n",
              "  0.43176087737083435,\n",
              "  0.4260515868663788,\n",
              "  0.42017653584480286,\n",
              "  0.41549986600875854,\n",
              "  0.4111650586128235,\n",
              "  0.4077068567276001,\n",
              "  0.40395283699035645,\n",
              "  0.4004494547843933,\n",
              "  0.3979603350162506,\n",
              "  0.394916296005249,\n",
              "  0.392380952835083,\n",
              "  0.38980719447135925,\n",
              "  0.387410044670105,\n",
              "  0.38507524132728577,\n",
              "  0.38291803002357483,\n",
              "  0.3808581829071045,\n",
              "  0.3787591755390167,\n",
              "  0.3769364356994629,\n",
              "  0.37497687339782715,\n",
              "  0.3729954957962036,\n",
              "  0.3713502585887909,\n",
              "  0.37013334035873413,\n",
              "  0.36850523948669434,\n",
              "  0.3672060966491699,\n",
              "  0.36596885323524475,\n",
              "  0.36465784907341003,\n",
              "  0.36356648802757263,\n",
              "  0.3624041974544525,\n",
              "  0.36129018664360046,\n",
              "  0.3601578176021576,\n",
              "  0.3593330383300781,\n",
              "  0.35798561573028564,\n",
              "  0.3572618365287781,\n",
              "  0.3564041256904602,\n",
              "  0.35521674156188965,\n",
              "  0.3546918034553528,\n",
              "  0.35379698872566223,\n",
              "  0.35309916734695435,\n",
              "  0.3523349463939667],\n",
              " 'mae': [0.9900257587432861,\n",
              "  0.6041510701179504,\n",
              "  0.5618005990982056,\n",
              "  0.5398454070091248,\n",
              "  0.5237294435501099,\n",
              "  0.5112562775611877,\n",
              "  0.5010153651237488,\n",
              "  0.492448091506958,\n",
              "  0.4857262372970581,\n",
              "  0.4797375202178955,\n",
              "  0.4744163453578949,\n",
              "  0.4703480303287506,\n",
              "  0.46740880608558655,\n",
              "  0.46360209584236145,\n",
              "  0.4612663984298706,\n",
              "  0.4591343402862549,\n",
              "  0.4568699896335602,\n",
              "  0.45453643798828125,\n",
              "  0.4521065056324005,\n",
              "  0.45083147287368774,\n",
              "  0.4488178491592407,\n",
              "  0.4474424421787262,\n",
              "  0.4462001621723175,\n",
              "  0.4437682628631592,\n",
              "  0.4427269995212555,\n",
              "  0.4411567747592926,\n",
              "  0.43981388211250305,\n",
              "  0.4382499158382416,\n",
              "  0.4372561573982239,\n",
              "  0.4359183609485626,\n",
              "  0.43464893102645874,\n",
              "  0.43358007073402405,\n",
              "  0.4330412447452545,\n",
              "  0.4315544366836548,\n",
              "  0.43074294924736023,\n",
              "  0.43036696314811707,\n",
              "  0.4288717210292816,\n",
              "  0.428531676530838,\n",
              "  0.42789629101753235,\n",
              "  0.42701801657676697,\n",
              "  0.42572131752967834,\n",
              "  0.42581841349601746,\n",
              "  0.42437535524368286,\n",
              "  0.4238925576210022,\n",
              "  0.424181193113327,\n",
              "  0.4220292270183563,\n",
              "  0.4227808713912964,\n",
              "  0.42157214879989624,\n",
              "  0.4210968613624573,\n",
              "  0.42071524262428284],\n",
              " 'val_loss': [0.7126055359840393,\n",
              "  0.6880088448524475,\n",
              "  0.5803287029266357,\n",
              "  0.5166085362434387,\n",
              "  0.4895075559616089,\n",
              "  0.4950792193412781,\n",
              "  0.48612526059150696,\n",
              "  0.4553801119327545,\n",
              "  0.44133704900741577,\n",
              "  0.43786385655403137,\n",
              "  0.4396442770957947,\n",
              "  0.4506688117980957,\n",
              "  0.39972352981567383,\n",
              "  0.3955893814563751,\n",
              "  0.3915725350379944,\n",
              "  0.39368298649787903,\n",
              "  0.38094857335090637,\n",
              "  0.379347562789917,\n",
              "  0.3850174844264984,\n",
              "  0.380946546792984,\n",
              "  0.37008604407310486,\n",
              "  0.3780854344367981,\n",
              "  0.3649766445159912,\n",
              "  0.3655156195163727,\n",
              "  0.36108675599098206,\n",
              "  0.36261093616485596,\n",
              "  0.35643550753593445,\n",
              "  0.3579290509223938,\n",
              "  0.35606303811073303,\n",
              "  0.3547627925872803,\n",
              "  0.35016125440597534,\n",
              "  0.3642347753047943,\n",
              "  0.3468204736709595,\n",
              "  0.3473831117153168,\n",
              "  0.3623741567134857,\n",
              "  0.34376442432403564,\n",
              "  0.36107999086380005,\n",
              "  0.3458505868911743,\n",
              "  0.3492334187030792,\n",
              "  0.3432822525501251,\n",
              "  0.3555656373500824,\n",
              "  0.3483540415763855,\n",
              "  0.3683708608150482,\n",
              "  0.3604983985424042,\n",
              "  0.339931845664978,\n",
              "  0.3506372272968292,\n",
              "  0.3480636477470398,\n",
              "  0.3661101460456848,\n",
              "  0.3355824649333954,\n",
              "  0.3323339521884918],\n",
              " 'val_mae': [0.6368112564086914,\n",
              "  0.5703656673431396,\n",
              "  0.5351505279541016,\n",
              "  0.5206614136695862,\n",
              "  0.5022227168083191,\n",
              "  0.4933752119541168,\n",
              "  0.4838489592075348,\n",
              "  0.4752774238586426,\n",
              "  0.46705934405326843,\n",
              "  0.46234601736068726,\n",
              "  0.4637792110443115,\n",
              "  0.4572650194168091,\n",
              "  0.45166537165641785,\n",
              "  0.4496610462665558,\n",
              "  0.4463699758052826,\n",
              "  0.4444962441921234,\n",
              "  0.43897414207458496,\n",
              "  0.43681108951568604,\n",
              "  0.4369050860404968,\n",
              "  0.43676161766052246,\n",
              "  0.4349789619445801,\n",
              "  0.4357868432998657,\n",
              "  0.42667093873023987,\n",
              "  0.4271409511566162,\n",
              "  0.425742506980896,\n",
              "  0.42560702562332153,\n",
              "  0.4241633415222168,\n",
              "  0.4259428083896637,\n",
              "  0.42436832189559937,\n",
              "  0.421389639377594,\n",
              "  0.4193384647369385,\n",
              "  0.4252665638923645,\n",
              "  0.41821053624153137,\n",
              "  0.41832831501960754,\n",
              "  0.4217756986618042,\n",
              "  0.4148756265640259,\n",
              "  0.41928863525390625,\n",
              "  0.4157959818840027,\n",
              "  0.4150291979312897,\n",
              "  0.41273006796836853,\n",
              "  0.4160705804824829,\n",
              "  0.4125024676322937,\n",
              "  0.4152910113334656,\n",
              "  0.4174281656742096,\n",
              "  0.4096464216709137,\n",
              "  0.4129580557346344,\n",
              "  0.4105679988861084,\n",
              "  0.41381922364234924,\n",
              "  0.4104067385196686,\n",
              "  0.4073602259159088]}"
            ]
          },
          "metadata": {},
          "execution_count": 16
        }
      ]
    },
    {
      "cell_type": "code",
      "source": [
        "pd.DataFrame(model_history.history).plot(figsize=(8,5))\n",
        "plt.grid(True)\n",
        "plt.gca().set_ylim(0,1)\n",
        "plt.show()"
      ],
      "metadata": {
        "colab": {
          "base_uri": "https://localhost:8080/",
          "height": 324
        },
        "id": "gS1aYuj5lVg7",
        "outputId": "0f35fda6-0cde-4be5-85fe-dcd1b19c4444"
      },
      "execution_count": 19,
      "outputs": [
        {
          "output_type": "display_data",
          "data": {
            "text/plain": [
              "<Figure size 576x360 with 1 Axes>"
            ],
            "image/png": "[encoded data removed]"
          },
          "metadata": {
            "needs_background": "light"
          }
        }
      ]
    },
    {
      "cell_type": "code",
      "source": [
        "X_new = X_test[:5]"
      ],
      "metadata": {
        "id": "z6r9dtyMleah"
      },
      "execution_count": 20,
      "outputs": []
    },
    {
      "cell_type": "code",
      "source": [
        "y_pred = model.predict(X_new)\n",
        "print(y_pred)\n",
        "print(y_test[:5])"
      ],
      "metadata": {
        "colab": {
          "base_uri": "https://localhost:8080/"
        },
        "id": "-XPdT7oWl_uX",
        "outputId": "367999e3-f2a2-4141-a580-9a215afbae85"
      },
      "execution_count": 21,
      "outputs": [
        {
          "output_type": "stream",
          "name": "stdout",
          "text": [
            "[[0.6100354]\n",
            " [1.7973853]\n",
            " [3.8710501]\n",
            " [2.6701093]\n",
            " [2.823174 ]]\n",
            "[0.477   0.458   5.00001 2.186   2.78   ]\n"
          ]
        }
      ]
    },
    {
      "cell_type": "code",
      "source": [
        "del model"
      ],
      "metadata": {
        "id": "mQDGgQerm1Z9"
      },
      "execution_count": 22,
      "outputs": []
    },
    {
      "cell_type": "code",
      "source": [
        "keras.backend.clear_session()"
      ],
      "metadata": {
        "id": "21IygDuDnjCo"
      },
      "execution_count": 23,
      "outputs": []
    },
    {
      "cell_type": "markdown",
      "source": [
        "**Functional API**"
      ],
      "metadata": {
        "id": "PzXlOagWnqoZ"
      }
    },
    {
      "cell_type": "code",
      "source": [
        "input_ = keras.layers.Input(shape=X_train.shape[1:])\n",
        "hidden1 = keras.layers.Dense(30, activation=\"relu\")(input_)\n",
        "hidden2 = keras.layers.Dense(30, activation=\"relu\")(hidden1)\n",
        "concat = keras.layers.concatenate([input_, hidden2])\n",
        "output = keras.layers.Dense(1)(concat)\n",
        "model = keras.models.Model(inputs=[input_], outputs = [output])"
      ],
      "metadata": {
        "id": "hjEjtydrnnyJ"
      },
      "execution_count": 26,
      "outputs": []
    },
    {
      "cell_type": "code",
      "source": [
        "model.summary()"
      ],
      "metadata": {
        "colab": {
          "base_uri": "https://localhost:8080/"
        },
        "id": "zFx59AD4rpYv",
        "outputId": "41e495cb-a842-4d09-c75c-54acd0397432"
      },
      "execution_count": 27,
      "outputs": [
        {
          "output_type": "stream",
          "name": "stdout",
          "text": [
            "Model: \"model_1\"\n",
            "__________________________________________________________________________________________________\n",
            " Layer (type)                   Output Shape         Param #     Connected to                     \n",
            "==================================================================================================\n",
            " input_2 (InputLayer)           [(None, 8)]          0           []                               \n",
            "                                                                                                  \n",
            " dense_3 (Dense)                (None, 30)           270         ['input_2[0][0]']                \n",
            "                                                                                                  \n",
            " dense_4 (Dense)                (None, 30)           930         ['dense_3[0][0]']                \n",
            "                                                                                                  \n",
            " concatenate_1 (Concatenate)    (None, 38)           0           ['input_2[0][0]',                \n",
            "                                                                  'dense_4[0][0]']                \n",
            "                                                                                                  \n",
            " dense_5 (Dense)                (None, 1)            39          ['concatenate_1[0][0]']          \n",
            "                                                                                                  \n",
            "==================================================================================================\n",
            "Total params: 1,239\n",
            "Trainable params: 1,239\n",
            "Non-trainable params: 0\n",
            "__________________________________________________________________________________________________\n"
          ]
        }
      ]
    },
    {
      "cell_type": "code",
      "source": [
        "model.compile(loss=\"mean_squared_error\",optimizer=keras.optimizers.SGD(lr=1e-3), metrics=['mae'])\n"
      ],
      "metadata": {
        "colab": {
          "base_uri": "https://localhost:8080/"
        },
        "id": "3qDFesPtrrdS",
        "outputId": "e085c283-a5b0-4c5a-e301-055d985cb490"
      },
      "execution_count": 28,
      "outputs": [
        {
          "output_type": "stream",
          "name": "stderr",
          "text": [
            "/usr/local/lib/python3.7/dist-packages/keras/optimizer_v2/gradient_descent.py:102: UserWarning: The `lr` argument is deprecated, use `learning_rate` instead.\n",
            "  super(SGD, self).__init__(name, **kwargs)\n"
          ]
        }
      ]
    },
    {
      "cell_type": "code",
      "source": [
        "model_history = model.fit(X_train, y_train, epochs= 40, validation_data=(X_valid, y_valid))"
      ],
      "metadata": {
        "colab": {
          "base_uri": "https://localhost:8080/"
        },
        "id": "8s-OzswvsdkD",
        "outputId": "31770d94-bf5e-41e6-fc3d-875ae67bb238"
      },
      "execution_count": 34,
      "outputs": [
        {
          "output_type": "stream",
          "name": "stdout",
          "text": [
            "Epoch 1/40\n",
            "363/363 [==============================] - 1s 2ms/step - loss: 0.3662 - mae: 0.4330 - val_loss: 0.3596 - val_mae: 0.4205\n",
            "Epoch 2/40\n",
            "363/363 [==============================] - 1s 2ms/step - loss: 0.3650 - mae: 0.4320 - val_loss: 0.4055 - val_mae: 0.4274\n",
            "Epoch 3/40\n",
            "363/363 [==============================] - 1s 2ms/step - loss: 0.3642 - mae: 0.4320 - val_loss: 0.3878 - val_mae: 0.4213\n",
            "Epoch 4/40\n",
            "363/363 [==============================] - 1s 2ms/step - loss: 0.3633 - mae: 0.4308 - val_loss: 0.3550 - val_mae: 0.4212\n",
            "Epoch 5/40\n",
            "363/363 [==============================] - 1s 2ms/step - loss: 0.3623 - mae: 0.4299 - val_loss: 0.3476 - val_mae: 0.4187\n",
            "Epoch 6/40\n",
            "363/363 [==============================] - 1s 2ms/step - loss: 0.3611 - mae: 0.4297 - val_loss: 0.3716 - val_mae: 0.4185\n",
            "Epoch 7/40\n",
            "363/363 [==============================] - 1s 2ms/step - loss: 0.3605 - mae: 0.4287 - val_loss: 0.3586 - val_mae: 0.4188\n",
            "Epoch 8/40\n",
            "363/363 [==============================] - 1s 2ms/step - loss: 0.3596 - mae: 0.4282 - val_loss: 0.3409 - val_mae: 0.4154\n",
            "Epoch 9/40\n",
            "363/363 [==============================] - 1s 2ms/step - loss: 0.3586 - mae: 0.4278 - val_loss: 0.3549 - val_mae: 0.4155\n",
            "Epoch 10/40\n",
            "363/363 [==============================] - 1s 2ms/step - loss: 0.3576 - mae: 0.4268 - val_loss: 0.3815 - val_mae: 0.4170\n",
            "Epoch 11/40\n",
            "363/363 [==============================] - 1s 2ms/step - loss: 0.3572 - mae: 0.4263 - val_loss: 0.3363 - val_mae: 0.4137\n",
            "Epoch 12/40\n",
            "363/363 [==============================] - 1s 2ms/step - loss: 0.3561 - mae: 0.4255 - val_loss: 0.3853 - val_mae: 0.4171\n",
            "Epoch 13/40\n",
            "363/363 [==============================] - 1s 2ms/step - loss: 0.3554 - mae: 0.4249 - val_loss: 0.3656 - val_mae: 0.4180\n",
            "Epoch 14/40\n",
            "363/363 [==============================] - 1s 2ms/step - loss: 0.3547 - mae: 0.4243 - val_loss: 0.3407 - val_mae: 0.4145\n",
            "Epoch 15/40\n",
            "363/363 [==============================] - 1s 2ms/step - loss: 0.3538 - mae: 0.4238 - val_loss: 0.3492 - val_mae: 0.4148\n",
            "Epoch 16/40\n",
            "363/363 [==============================] - 1s 2ms/step - loss: 0.3532 - mae: 0.4238 - val_loss: 0.3387 - val_mae: 0.4131\n",
            "Epoch 17/40\n",
            "363/363 [==============================] - 1s 2ms/step - loss: 0.3525 - mae: 0.4230 - val_loss: 0.3602 - val_mae: 0.4139\n",
            "Epoch 18/40\n",
            "363/363 [==============================] - 1s 2ms/step - loss: 0.3519 - mae: 0.4224 - val_loss: 0.3571 - val_mae: 0.4126\n",
            "Epoch 19/40\n",
            "363/363 [==============================] - 1s 3ms/step - loss: 0.3510 - mae: 0.4217 - val_loss: 0.3438 - val_mae: 0.4112\n",
            "Epoch 20/40\n",
            "363/363 [==============================] - 1s 2ms/step - loss: 0.3505 - mae: 0.4210 - val_loss: 0.3849 - val_mae: 0.4158\n",
            "Epoch 21/40\n",
            "363/363 [==============================] - 1s 2ms/step - loss: 0.3500 - mae: 0.4208 - val_loss: 0.3575 - val_mae: 0.4147\n",
            "Epoch 22/40\n",
            "363/363 [==============================] - 1s 2ms/step - loss: 0.3491 - mae: 0.4206 - val_loss: 0.3858 - val_mae: 0.4174\n",
            "Epoch 23/40\n",
            "363/363 [==============================] - 1s 2ms/step - loss: 0.3488 - mae: 0.4206 - val_loss: 0.3273 - val_mae: 0.4048\n",
            "Epoch 24/40\n",
            "363/363 [==============================] - 1s 2ms/step - loss: 0.3480 - mae: 0.4192 - val_loss: 0.3498 - val_mae: 0.4103\n",
            "Epoch 25/40\n",
            "363/363 [==============================] - 1s 2ms/step - loss: 0.3473 - mae: 0.4194 - val_loss: 0.3752 - val_mae: 0.4115\n",
            "Epoch 26/40\n",
            "363/363 [==============================] - 1s 2ms/step - loss: 0.3469 - mae: 0.4187 - val_loss: 0.3644 - val_mae: 0.4113\n",
            "Epoch 27/40\n",
            "363/363 [==============================] - 1s 2ms/step - loss: 0.3466 - mae: 0.4185 - val_loss: 0.3259 - val_mae: 0.4061\n",
            "Epoch 28/40\n",
            "363/363 [==============================] - 1s 3ms/step - loss: 0.3459 - mae: 0.4176 - val_loss: 0.3469 - val_mae: 0.4109\n",
            "Epoch 29/40\n",
            "363/363 [==============================] - 1s 2ms/step - loss: 0.3454 - mae: 0.4175 - val_loss: 0.3375 - val_mae: 0.4094\n",
            "Epoch 30/40\n",
            "363/363 [==============================] - 1s 2ms/step - loss: 0.3446 - mae: 0.4171 - val_loss: 0.3689 - val_mae: 0.4099\n",
            "Epoch 31/40\n",
            "363/363 [==============================] - 1s 2ms/step - loss: 0.3441 - mae: 0.4163 - val_loss: 0.3468 - val_mae: 0.4076\n",
            "Epoch 32/40\n",
            "363/363 [==============================] - 1s 2ms/step - loss: 0.3435 - mae: 0.4159 - val_loss: 0.3682 - val_mae: 0.4133\n",
            "Epoch 33/40\n",
            "363/363 [==============================] - 1s 2ms/step - loss: 0.3435 - mae: 0.4163 - val_loss: 0.3306 - val_mae: 0.4070\n",
            "Epoch 34/40\n",
            "363/363 [==============================] - 1s 2ms/step - loss: 0.3427 - mae: 0.4154 - val_loss: 0.3266 - val_mae: 0.4053\n",
            "Epoch 35/40\n",
            "363/363 [==============================] - 1s 2ms/step - loss: 0.3421 - mae: 0.4148 - val_loss: 0.3633 - val_mae: 0.4121\n",
            "Epoch 36/40\n",
            "363/363 [==============================] - 1s 2ms/step - loss: 0.3419 - mae: 0.4151 - val_loss: 0.3216 - val_mae: 0.4030\n",
            "Epoch 37/40\n",
            "363/363 [==============================] - 1s 2ms/step - loss: 0.3413 - mae: 0.4142 - val_loss: 0.3347 - val_mae: 0.4068\n",
            "Epoch 38/40\n",
            "363/363 [==============================] - 1s 2ms/step - loss: 0.3409 - mae: 0.4139 - val_loss: 0.3296 - val_mae: 0.4058\n",
            "Epoch 39/40\n",
            "363/363 [==============================] - 1s 2ms/step - loss: 0.3404 - mae: 0.4140 - val_loss: 0.3243 - val_mae: 0.4028\n",
            "Epoch 40/40\n",
            "363/363 [==============================] - 1s 2ms/step - loss: 0.3399 - mae: 0.4133 - val_loss: 0.3399 - val_mae: 0.4032\n"
          ]
        }
      ]
    },
    {
      "cell_type": "code",
      "source": [
        "mae_test = model.evaluate(X_test, y_test)"
      ],
      "metadata": {
        "colab": {
          "base_uri": "https://localhost:8080/"
        },
        "id": "IPMBjbKKuDTd",
        "outputId": "21e05de8-7a84-47e2-d538-75d02dfa7e43"
      },
      "execution_count": 35,
      "outputs": [
        {
          "output_type": "stream",
          "name": "stdout",
          "text": [
            "162/162 [==============================] - 0s 2ms/step - loss: 0.3467 - mae: 0.4133\n"
          ]
        }
      ]
    },
    {
      "cell_type": "code",
      "source": [
        "model_history.history"
      ],
      "metadata": {
        "colab": {
          "base_uri": "https://localhost:8080/"
        },
        "id": "j-hf81zIuWuY",
        "outputId": "480c3377-66cf-486f-bf11-6bbb77bdeabc"
      },
      "execution_count": 36,
      "outputs": [
        {
          "output_type": "execute_result",
          "data": {
            "text/plain": [
              "{'loss': [0.36622288823127747,\n",
              "  0.36500006914138794,\n",
              "  0.364217609167099,\n",
              "  0.3632681369781494,\n",
              "  0.3623109459877014,\n",
              "  0.3611108064651489,\n",
              "  0.3604705035686493,\n",
              "  0.35956382751464844,\n",
              "  0.3585939109325409,\n",
              "  0.35758906602859497,\n",
              "  0.3572273254394531,\n",
              "  0.35606545209884644,\n",
              "  0.3554365634918213,\n",
              "  0.3546859323978424,\n",
              "  0.35383138060569763,\n",
              "  0.3531961143016815,\n",
              "  0.35245347023010254,\n",
              "  0.35193929076194763,\n",
              "  0.3509945273399353,\n",
              "  0.35050055384635925,\n",
              "  0.34995993971824646,\n",
              "  0.3491249978542328,\n",
              "  0.34882646799087524,\n",
              "  0.34799689054489136,\n",
              "  0.3473166823387146,\n",
              "  0.34692952036857605,\n",
              "  0.34655922651290894,\n",
              "  0.34590670466423035,\n",
              "  0.34544289112091064,\n",
              "  0.34462130069732666,\n",
              "  0.34414464235305786,\n",
              "  0.34351846575737,\n",
              "  0.34352627396583557,\n",
              "  0.34267657995224,\n",
              "  0.34211260080337524,\n",
              "  0.3419322371482849,\n",
              "  0.34131118655204773,\n",
              "  0.3408554196357727,\n",
              "  0.34040090441703796,\n",
              "  0.33985742926597595],\n",
              " 'mae': [0.43299633264541626,\n",
              "  0.43199798464775085,\n",
              "  0.4320273697376251,\n",
              "  0.43084102869033813,\n",
              "  0.4299110472202301,\n",
              "  0.42974650859832764,\n",
              "  0.428676575422287,\n",
              "  0.4282136857509613,\n",
              "  0.42778828740119934,\n",
              "  0.4267929196357727,\n",
              "  0.42631635069847107,\n",
              "  0.42548665404319763,\n",
              "  0.42488887906074524,\n",
              "  0.4242760241031647,\n",
              "  0.4238414168357849,\n",
              "  0.4238409996032715,\n",
              "  0.42299190163612366,\n",
              "  0.4224129915237427,\n",
              "  0.4217446744441986,\n",
              "  0.42103588581085205,\n",
              "  0.42081519961357117,\n",
              "  0.4206230044364929,\n",
              "  0.42058637738227844,\n",
              "  0.41915541887283325,\n",
              "  0.4193781912326813,\n",
              "  0.4186924993991852,\n",
              "  0.4184522032737732,\n",
              "  0.4175708591938019,\n",
              "  0.41753479838371277,\n",
              "  0.41706207394599915,\n",
              "  0.41632914543151855,\n",
              "  0.41589051485061646,\n",
              "  0.4163143038749695,\n",
              "  0.4153811037540436,\n",
              "  0.41476309299468994,\n",
              "  0.4151340126991272,\n",
              "  0.41415390372276306,\n",
              "  0.4139246344566345,\n",
              "  0.41397371888160706,\n",
              "  0.41334298253059387],\n",
              " 'val_loss': [0.3595660626888275,\n",
              "  0.4055165648460388,\n",
              "  0.38780251145362854,\n",
              "  0.3550134599208832,\n",
              "  0.3475698232650757,\n",
              "  0.3715699017047882,\n",
              "  0.3586304783821106,\n",
              "  0.34090355038642883,\n",
              "  0.35485196113586426,\n",
              "  0.38150909543037415,\n",
              "  0.3363243043422699,\n",
              "  0.3852597773075104,\n",
              "  0.3655553460121155,\n",
              "  0.3407127261161804,\n",
              "  0.3492491543292999,\n",
              "  0.3386939764022827,\n",
              "  0.36020609736442566,\n",
              "  0.35714492201805115,\n",
              "  0.34378567337989807,\n",
              "  0.38490137457847595,\n",
              "  0.35751280188560486,\n",
              "  0.3857673406600952,\n",
              "  0.32729917764663696,\n",
              "  0.3497641682624817,\n",
              "  0.3751566410064697,\n",
              "  0.3644137680530548,\n",
              "  0.3259354531764984,\n",
              "  0.34693723917007446,\n",
              "  0.33752086758613586,\n",
              "  0.36889126896858215,\n",
              "  0.3468133509159088,\n",
              "  0.3682287931442261,\n",
              "  0.3306119740009308,\n",
              "  0.32655036449432373,\n",
              "  0.363332062959671,\n",
              "  0.32157275080680847,\n",
              "  0.33470287919044495,\n",
              "  0.32960185408592224,\n",
              "  0.32431596517562866,\n",
              "  0.339886873960495],\n",
              " 'val_mae': [0.4204776883125305,\n",
              "  0.4274439215660095,\n",
              "  0.42130914330482483,\n",
              "  0.42124685645103455,\n",
              "  0.4187486171722412,\n",
              "  0.418533056974411,\n",
              "  0.41883477568626404,\n",
              "  0.41537564992904663,\n",
              "  0.4155268967151642,\n",
              "  0.4169834852218628,\n",
              "  0.4136682152748108,\n",
              "  0.4171361029148102,\n",
              "  0.41800734400749207,\n",
              "  0.4144940972328186,\n",
              "  0.41478368639945984,\n",
              "  0.41314709186553955,\n",
              "  0.4138680100440979,\n",
              "  0.41264808177948,\n",
              "  0.4111575186252594,\n",
              "  0.4157894253730774,\n",
              "  0.4147193133831024,\n",
              "  0.41739529371261597,\n",
              "  0.40484732389450073,\n",
              "  0.4103127121925354,\n",
              "  0.41145485639572144,\n",
              "  0.4113331437110901,\n",
              "  0.40605196356773376,\n",
              "  0.4109167158603668,\n",
              "  0.4093712866306305,\n",
              "  0.4098849594593048,\n",
              "  0.40760746598243713,\n",
              "  0.4132820665836334,\n",
              "  0.4069620966911316,\n",
              "  0.4053284823894501,\n",
              "  0.4120684266090393,\n",
              "  0.40302810072898865,\n",
              "  0.40682342648506165,\n",
              "  0.4058331847190857,\n",
              "  0.40283674001693726,\n",
              "  0.403240829706192]}"
            ]
          },
          "metadata": {},
          "execution_count": 36
        }
      ]
    },
    {
      "cell_type": "code",
      "source": [
        "pd.DataFrame(model_history.history).plot(figsize=(8,5))\n",
        "plt.grid(True)\n",
        "plt.gca().set_ylim(0,1)\n",
        "plt.show()"
      ],
      "metadata": {
        "colab": {
          "base_uri": "https://localhost:8080/",
          "height": 324
        },
        "id": "Ie1m5YTqun1-",
        "outputId": "d7905122-3a90-4818-bf61-632fcd73461b"
      },
      "execution_count": 37,
      "outputs": [
        {
          "output_type": "display_data",
          "data": {
            "text/plain": [
              "<Figure size 576x360 with 1 Axes>"
            ],
            "image/png": "[encoded data removed]"
          },
          "metadata": {
            "needs_background": "light"
          }
        }
      ]
    },
    {
      "cell_type": "code",
      "source": [
        ""
      ],
      "metadata": {
        "id": "ZFqw4J11utku"
      },
      "execution_count": null,
      "outputs": []
    }
  ]
}